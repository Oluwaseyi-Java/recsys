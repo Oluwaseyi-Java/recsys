{
 "cells": [
  {
   "cell_type": "code",
   "execution_count": 2,
   "metadata": {},
   "outputs": [],
   "source": [
    "import pandas as pd"
   ]
  },
  {
   "cell_type": "code",
   "execution_count": 4,
   "metadata": {},
   "outputs": [
    {
     "data": {
      "text/html": [
       "<div>\n",
       "<style scoped>\n",
       "    .dataframe tbody tr th:only-of-type {\n",
       "        vertical-align: middle;\n",
       "    }\n",
       "\n",
       "    .dataframe tbody tr th {\n",
       "        vertical-align: top;\n",
       "    }\n",
       "\n",
       "    .dataframe thead th {\n",
       "        text-align: right;\n",
       "    }\n",
       "</style>\n",
       "<table border=\"1\" class=\"dataframe\">\n",
       "  <thead>\n",
       "    <tr style=\"text-align: right;\">\n",
       "      <th></th>\n",
       "      <th>name</th>\n",
       "      <th>description</th>\n",
       "    </tr>\n",
       "  </thead>\n",
       "  <tbody>\n",
       "    <tr>\n",
       "      <th>0</th>\n",
       "      <td>Accountancy</td>\n",
       "      <td>Accountancy is the practice of recording, clas...</td>\n",
       "    </tr>\n",
       "    <tr>\n",
       "      <th>1</th>\n",
       "      <td>Accounting</td>\n",
       "      <td>Accounting is the systematic recording, report...</td>\n",
       "    </tr>\n",
       "    <tr>\n",
       "      <th>2</th>\n",
       "      <td>Accounting Education</td>\n",
       "      <td>Accounting Education combines accounting princ...</td>\n",
       "    </tr>\n",
       "    <tr>\n",
       "      <th>3</th>\n",
       "      <td>Accounting and Finance</td>\n",
       "      <td>Accounting and Finance is an integrated course...</td>\n",
       "    </tr>\n",
       "    <tr>\n",
       "      <th>4</th>\n",
       "      <td>Actuarial Science</td>\n",
       "      <td>Actuarial Science is the discipline of assessi...</td>\n",
       "    </tr>\n",
       "    <tr>\n",
       "      <th>5</th>\n",
       "      <td>Administration and Planning</td>\n",
       "      <td>The Administration and Planning program offers...</td>\n",
       "    </tr>\n",
       "    <tr>\n",
       "      <th>6</th>\n",
       "      <td>Adult Education</td>\n",
       "      <td>The Adult Education program offers students an...</td>\n",
       "    </tr>\n",
       "    <tr>\n",
       "      <th>7</th>\n",
       "      <td>Adult Education and Community Development</td>\n",
       "      <td>The Adult Education and Community Development ...</td>\n",
       "    </tr>\n",
       "    <tr>\n",
       "      <th>8</th>\n",
       "      <td>Adult Education/Economics</td>\n",
       "      <td>The Adult Education/Economics program offers s...</td>\n",
       "    </tr>\n",
       "    <tr>\n",
       "      <th>9</th>\n",
       "      <td>Adult Education/English Language/Literature in...</td>\n",
       "      <td>The Adult Education/English Language/Literatur...</td>\n",
       "    </tr>\n",
       "  </tbody>\n",
       "</table>\n",
       "</div>"
      ],
      "text/plain": [
       "                                                name  \\\n",
       "0                                        Accountancy   \n",
       "1                                         Accounting   \n",
       "2                               Accounting Education   \n",
       "3                             Accounting and Finance   \n",
       "4                                  Actuarial Science   \n",
       "5                        Administration and Planning   \n",
       "6                                    Adult Education   \n",
       "7          Adult Education and Community Development   \n",
       "8                          Adult Education/Economics   \n",
       "9  Adult Education/English Language/Literature in...   \n",
       "\n",
       "                                         description  \n",
       "0  Accountancy is the practice of recording, clas...  \n",
       "1  Accounting is the systematic recording, report...  \n",
       "2  Accounting Education combines accounting princ...  \n",
       "3  Accounting and Finance is an integrated course...  \n",
       "4  Actuarial Science is the discipline of assessi...  \n",
       "5  The Administration and Planning program offers...  \n",
       "6  The Adult Education program offers students an...  \n",
       "7  The Adult Education and Community Development ...  \n",
       "8  The Adult Education/Economics program offers s...  \n",
       "9  The Adult Education/English Language/Literatur...  "
      ]
     },
     "execution_count": 4,
     "metadata": {},
     "output_type": "execute_result"
    }
   ],
   "source": [
    "df = pd.read_json(\"./custom_courses_with_descriptions.json\")\n",
    "df.head(10)"
   ]
  }
 ],
 "metadata": {
  "kernelspec": {
   "display_name": "base",
   "language": "python",
   "name": "python3"
  },
  "language_info": {
   "codemirror_mode": {
    "name": "ipython",
    "version": 3
   },
   "file_extension": ".py",
   "mimetype": "text/x-python",
   "name": "python",
   "nbconvert_exporter": "python",
   "pygments_lexer": "ipython3",
   "version": "3.12.3"
  }
 },
 "nbformat": 4,
 "nbformat_minor": 2
}
