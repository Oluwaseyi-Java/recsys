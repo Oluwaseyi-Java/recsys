{
 "cells": [
  {
   "cell_type": "code",
   "execution_count": 156,
   "metadata": {},
   "outputs": [],
   "source": [
    "import pandas as pd\n",
    "import gensim"
   ]
  },
  {
   "cell_type": "code",
   "execution_count": 157,
   "metadata": {},
   "outputs": [
    {
     "data": {
      "text/html": [
       "<div>\n",
       "<style scoped>\n",
       "    .dataframe tbody tr th:only-of-type {\n",
       "        vertical-align: middle;\n",
       "    }\n",
       "\n",
       "    .dataframe tbody tr th {\n",
       "        vertical-align: top;\n",
       "    }\n",
       "\n",
       "    .dataframe thead th {\n",
       "        text-align: right;\n",
       "    }\n",
       "</style>\n",
       "<table border=\"1\" class=\"dataframe\">\n",
       "  <thead>\n",
       "    <tr style=\"text-align: right;\">\n",
       "      <th></th>\n",
       "      <th>name</th>\n",
       "      <th>description</th>\n",
       "    </tr>\n",
       "  </thead>\n",
       "  <tbody>\n",
       "    <tr>\n",
       "      <th>0</th>\n",
       "      <td>Accountancy</td>\n",
       "      <td>Accountancy is the practice of recording, clas...</td>\n",
       "    </tr>\n",
       "    <tr>\n",
       "      <th>1</th>\n",
       "      <td>Accounting</td>\n",
       "      <td>Accounting is the systematic recording, report...</td>\n",
       "    </tr>\n",
       "    <tr>\n",
       "      <th>2</th>\n",
       "      <td>Accounting Education</td>\n",
       "      <td>Accounting Education combines accounting princ...</td>\n",
       "    </tr>\n",
       "    <tr>\n",
       "      <th>3</th>\n",
       "      <td>Accounting and Finance</td>\n",
       "      <td>Accounting and Finance is an integrated course...</td>\n",
       "    </tr>\n",
       "    <tr>\n",
       "      <th>4</th>\n",
       "      <td>Actuarial Science</td>\n",
       "      <td>Actuarial Science is the discipline of assessi...</td>\n",
       "    </tr>\n",
       "  </tbody>\n",
       "</table>\n",
       "</div>"
      ],
      "text/plain": [
       "                     name                                        description\n",
       "0             Accountancy  Accountancy is the practice of recording, clas...\n",
       "1              Accounting  Accounting is the systematic recording, report...\n",
       "2    Accounting Education  Accounting Education combines accounting princ...\n",
       "3  Accounting and Finance  Accounting and Finance is an integrated course...\n",
       "4       Actuarial Science  Actuarial Science is the discipline of assessi..."
      ]
     },
     "execution_count": 157,
     "metadata": {},
     "output_type": "execute_result"
    }
   ],
   "source": [
    "data=pd.read_json(\"custom_courses_with_descriptions.json\")\n",
    "data.head()"
   ]
  },
  {
   "cell_type": "code",
   "execution_count": 158,
   "metadata": {},
   "outputs": [
    {
     "data": {
      "text/plain": [
       "(618, 2)"
      ]
     },
     "execution_count": 158,
     "metadata": {},
     "output_type": "execute_result"
    }
   ],
   "source": [
    "data.shape"
   ]
  },
  {
   "cell_type": "code",
   "execution_count": 159,
   "metadata": {},
   "outputs": [
    {
     "data": {
      "text/plain": [
       "\"Accountancy is the practice of recording, classifying, and analyzing financial transactions. Students in this course will learn about financial reporting, auditing, taxation, and management accounting. They'll develop skills in preparing and interpreting financial statements, understanding accounting principles and standards, and using accounting software. The curriculum typically covers topics such as cost accounting, corporate finance, business law, and ethics in accounting. Graduates are prepared for careers in public accounting firms, corporations, government agencies, and non-profit organizations.\""
      ]
     },
     "execution_count": 159,
     "metadata": {},
     "output_type": "execute_result"
    }
   ],
   "source": [
    "data.description[0]"
   ]
  },
  {
   "cell_type": "code",
   "execution_count": 160,
   "metadata": {},
   "outputs": [
    {
     "data": {
      "text/plain": [
       "['accountancy',\n",
       " 'is',\n",
       " 'the',\n",
       " 'practice',\n",
       " 'of',\n",
       " 'recording',\n",
       " 'classifying',\n",
       " 'and',\n",
       " 'analyzing',\n",
       " 'financial',\n",
       " 'transactions',\n",
       " 'students',\n",
       " 'in',\n",
       " 'this',\n",
       " 'course',\n",
       " 'will',\n",
       " 'learn',\n",
       " 'about',\n",
       " 'financial',\n",
       " 'reporting',\n",
       " 'auditing',\n",
       " 'taxation',\n",
       " 'and',\n",
       " 'management',\n",
       " 'accounting',\n",
       " 'they',\n",
       " 'll',\n",
       " 'develop',\n",
       " 'skills',\n",
       " 'in',\n",
       " 'preparing',\n",
       " 'and',\n",
       " 'interpreting',\n",
       " 'financial',\n",
       " 'statements',\n",
       " 'understanding',\n",
       " 'accounting',\n",
       " 'principles',\n",
       " 'and',\n",
       " 'standards',\n",
       " 'and',\n",
       " 'using',\n",
       " 'accounting',\n",
       " 'software',\n",
       " 'the',\n",
       " 'curriculum',\n",
       " 'typically',\n",
       " 'covers',\n",
       " 'topics',\n",
       " 'such',\n",
       " 'as',\n",
       " 'cost',\n",
       " 'accounting',\n",
       " 'corporate',\n",
       " 'finance',\n",
       " 'business',\n",
       " 'law',\n",
       " 'and',\n",
       " 'ethics',\n",
       " 'in',\n",
       " 'accounting']"
      ]
     },
     "execution_count": 160,
     "metadata": {},
     "output_type": "execute_result"
    }
   ],
   "source": [
    "gensim.utils.simple_preprocess(\"Accountancy is the practice of recording, classifying, and analyzing financial transactions. Students in this course will learn about financial reporting, auditing, taxation, and management accounting. They'll develop skills in preparing and interpreting financial statements, understanding accounting principles and standards, and using accounting software. The curriculum typically covers topics such as cost accounting, corporate finance, business law, and ethics in accounting.\")"
   ]
  },
  {
   "cell_type": "code",
   "execution_count": 161,
   "metadata": {},
   "outputs": [
    {
     "data": {
      "text/plain": [
       "0      [accountancy, is, the, practice, of, recording...\n",
       "1      [accounting, is, the, systematic, recording, r...\n",
       "2      [accounting, education, combines, accounting, ...\n",
       "3      [accounting, and, finance, is, an, integrated,...\n",
       "4      [actuarial, science, is, the, discipline, of, ...\n",
       "                             ...                        \n",
       "613    [water, resources, engineering, focuses, on, t...\n",
       "614    [web, design, and, development, involves, crea...\n",
       "615    [wildlife, and, ecological, management, focuse...\n",
       "616    [wildlife, management, involves, the, study, a...\n",
       "617    [zoology, is, the, scientific, study, of, anim...\n",
       "Name: description, Length: 618, dtype: object"
      ]
     },
     "execution_count": 161,
     "metadata": {},
     "output_type": "execute_result"
    }
   ],
   "source": [
    "name=data.description.apply(gensim.utils.simple_preprocess)\n",
    "name"
   ]
  },
  {
   "cell_type": "code",
   "execution_count": 177,
   "metadata": {},
   "outputs": [],
   "source": [
    "model=gensim.models.Word2Vec(\n",
    "    window=5,\n",
    "    min_count=5,\n",
    "    workers=4\n",
    ")"
   ]
  },
  {
   "cell_type": "code",
   "execution_count": 213,
   "metadata": {},
   "outputs": [],
   "source": [
    "model.build_vocab(name, progress_per=1000)"
   ]
  },
  {
   "cell_type": "code",
   "execution_count": 214,
   "metadata": {},
   "outputs": [
    {
     "data": {
      "text/plain": [
       "5"
      ]
     },
     "execution_count": 214,
     "metadata": {},
     "output_type": "execute_result"
    }
   ],
   "source": [
    "model.epochs"
   ]
  },
  {
   "cell_type": "code",
   "execution_count": 215,
   "metadata": {},
   "outputs": [
    {
     "data": {
      "text/plain": [
       "618"
      ]
     },
     "execution_count": 215,
     "metadata": {},
     "output_type": "execute_result"
    }
   ],
   "source": [
    "model.corpus_count"
   ]
  },
  {
   "cell_type": "code",
   "execution_count": 216,
   "metadata": {},
   "outputs": [
    {
     "data": {
      "text/plain": [
       "(62366, 107855)"
      ]
     },
     "execution_count": 216,
     "metadata": {},
     "output_type": "execute_result"
    }
   ],
   "source": [
    "model.train(name, total_examples=model.corpus_count, epochs=model.epochs)"
   ]
  },
  {
   "cell_type": "code",
   "execution_count": 217,
   "metadata": {},
   "outputs": [],
   "source": [
    "model.save(\"./word2veccoursedescription.model\")"
   ]
  },
  {
   "cell_type": "code",
   "execution_count": 218,
   "metadata": {},
   "outputs": [
    {
     "data": {
      "text/plain": [
       "[('affairs', 0.9978275299072266),\n",
       " ('examines', 0.9977798461914062),\n",
       " ('theology', 0.997681200504303),\n",
       " ('traditional', 0.9976685047149658),\n",
       " ('philosophy', 0.9976369738578796),\n",
       " ('dynamics', 0.9976191520690918),\n",
       " ('interactions', 0.9974901676177979),\n",
       " ('context', 0.9974257349967957),\n",
       " ('organization', 0.9973743557929993),\n",
       " ('thermodynamics', 0.9973475337028503)]"
      ]
     },
     "execution_count": 218,
     "metadata": {},
     "output_type": "execute_result"
    }
   ],
   "source": [
    "model.wv.most_similar(\"computer\")"
   ]
  },
  {
   "cell_type": "code",
   "execution_count": 200,
   "metadata": {},
   "outputs": [
    {
     "data": {
      "text/plain": [
       "0.9732682"
      ]
     },
     "execution_count": 200,
     "metadata": {},
     "output_type": "execute_result"
    }
   ],
   "source": [
    "model.wv.similarity(w1=\"law\", w2=\"computer\")"
   ]
  },
  {
   "cell_type": "code",
   "execution_count": null,
   "metadata": {},
   "outputs": [],
   "source": []
  }
 ],
 "metadata": {
  "kernelspec": {
   "display_name": "Python 3 (ipykernel)",
   "language": "python",
   "name": "python3"
  },
  "language_info": {
   "codemirror_mode": {
    "name": "ipython",
    "version": 3
   },
   "file_extension": ".py",
   "mimetype": "text/x-python",
   "name": "python",
   "nbconvert_exporter": "python",
   "pygments_lexer": "ipython3",
   "version": "3.11.9"
  }
 },
 "nbformat": 4,
 "nbformat_minor": 4
}
