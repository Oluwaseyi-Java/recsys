{
 "cells": [
  {
   "cell_type": "code",
   "execution_count": 1,
   "metadata": {},
   "outputs": [],
   "source": [
    "import pandas as pd\n"
   ]
  },
  {
   "cell_type": "code",
   "execution_count": 8,
   "metadata": {},
   "outputs": [
    {
     "data": {
      "text/html": [
       "<div>\n",
       "<style scoped>\n",
       "    .dataframe tbody tr th:only-of-type {\n",
       "        vertical-align: middle;\n",
       "    }\n",
       "\n",
       "    .dataframe tbody tr th {\n",
       "        vertical-align: top;\n",
       "    }\n",
       "\n",
       "    .dataframe thead th {\n",
       "        text-align: right;\n",
       "    }\n",
       "</style>\n",
       "<table border=\"1\" class=\"dataframe\">\n",
       "  <thead>\n",
       "    <tr style=\"text-align: right;\">\n",
       "      <th></th>\n",
       "      <th>serialNumber</th>\n",
       "      <th>name</th>\n",
       "      <th>location</th>\n",
       "      <th>yearEstablished</th>\n",
       "      <th>website</th>\n",
       "      <th>type</th>\n",
       "      <th>programmes</th>\n",
       "    </tr>\n",
       "  </thead>\n",
       "  <tbody>\n",
       "    <tr>\n",
       "      <th>0</th>\n",
       "      <td>1</td>\n",
       "      <td>Abubakar Tafawa Balewa University</td>\n",
       "      <td>Bauchi, Bauchi State</td>\n",
       "      <td>1988</td>\n",
       "      <td>www.atbu.edu.ng</td>\n",
       "      <td>Federal</td>\n",
       "      <td>{'ADMINISTRATION': ['Accounting', 'Banking and...</td>\n",
       "    </tr>\n",
       "    <tr>\n",
       "      <th>1</th>\n",
       "      <td>2</td>\n",
       "      <td>Ahmadu Bello University</td>\n",
       "      <td>Zaria, Kaduna State</td>\n",
       "      <td>1962</td>\n",
       "      <td>www.abu.edu.ng</td>\n",
       "      <td>Federal</td>\n",
       "      <td>{'ADMINISTRATION': ['Accounting', 'Business Ad...</td>\n",
       "    </tr>\n",
       "    <tr>\n",
       "      <th>2</th>\n",
       "      <td>3</td>\n",
       "      <td>Air Force Institute of Technology</td>\n",
       "      <td>Kaduna, Kaduna State</td>\n",
       "      <td>2018</td>\n",
       "      <td>www.afit.edu.ng</td>\n",
       "      <td>Federal</td>\n",
       "      <td>{'ADMINISTRATION': ['Accounting', 'Banking and...</td>\n",
       "    </tr>\n",
       "    <tr>\n",
       "      <th>3</th>\n",
       "      <td>4</td>\n",
       "      <td>Alex Ekwueme Federal University</td>\n",
       "      <td>Ndufu Alike, Ikwo, Ebonyi State</td>\n",
       "      <td>2011</td>\n",
       "      <td>www.funai.edu.ng</td>\n",
       "      <td>Federal</td>\n",
       "      <td>{'ADMINISTRATION': ['Accounting', 'Banking and...</td>\n",
       "    </tr>\n",
       "    <tr>\n",
       "      <th>4</th>\n",
       "      <td>5</td>\n",
       "      <td>Bayero University</td>\n",
       "      <td>Kano, Kaduna State</td>\n",
       "      <td>1975</td>\n",
       "      <td>www.buk.edu.ng</td>\n",
       "      <td>Federal</td>\n",
       "      <td>{'ADMINISTRATION': ['Accounting', 'Banking and...</td>\n",
       "    </tr>\n",
       "  </tbody>\n",
       "</table>\n",
       "</div>"
      ],
      "text/plain": [
       "   serialNumber                               name  \\\n",
       "0             1  Abubakar Tafawa Balewa University   \n",
       "1             2            Ahmadu Bello University   \n",
       "2             3  Air Force Institute of Technology   \n",
       "3             4    Alex Ekwueme Federal University   \n",
       "4             5                  Bayero University   \n",
       "\n",
       "                          location  yearEstablished           website  \\\n",
       "0             Bauchi, Bauchi State             1988   www.atbu.edu.ng   \n",
       "1              Zaria, Kaduna State             1962    www.abu.edu.ng   \n",
       "2             Kaduna, Kaduna State             2018   www.afit.edu.ng   \n",
       "3  Ndufu Alike, Ikwo, Ebonyi State             2011  www.funai.edu.ng   \n",
       "4               Kano, Kaduna State             1975    www.buk.edu.ng   \n",
       "\n",
       "      type                                         programmes  \n",
       "0  Federal  {'ADMINISTRATION': ['Accounting', 'Banking and...  \n",
       "1  Federal  {'ADMINISTRATION': ['Accounting', 'Business Ad...  \n",
       "2  Federal  {'ADMINISTRATION': ['Accounting', 'Banking and...  \n",
       "3  Federal  {'ADMINISTRATION': ['Accounting', 'Banking and...  \n",
       "4  Federal  {'ADMINISTRATION': ['Accounting', 'Banking and...  "
      ]
     },
     "execution_count": 8,
     "metadata": {},
     "output_type": "execute_result"
    }
   ],
   "source": [
    "df=pd.read_json(\"./updated_universities.json\")\n",
    "df.head()"
   ]
  },
  {
   "cell_type": "code",
   "execution_count": 4,
   "metadata": {},
   "outputs": [
    {
     "data": {
      "text/plain": [
       "0       True\n",
       "1       True\n",
       "2       True\n",
       "3       True\n",
       "4       True\n",
       "       ...  \n",
       "148    False\n",
       "149    False\n",
       "150    False\n",
       "151    False\n",
       "152    False\n",
       "Name: type, Length: 153, dtype: bool"
      ]
     },
     "execution_count": 4,
     "metadata": {},
     "output_type": "execute_result"
    }
   ],
   "source": [
    "df[\"type\"].str.contains(\"Federal\")"
   ]
  }
 ],
 "metadata": {
  "kernelspec": {
   "display_name": "base",
   "language": "python",
   "name": "python3"
  },
  "language_info": {
   "codemirror_mode": {
    "name": "ipython",
    "version": 3
   },
   "file_extension": ".py",
   "mimetype": "text/x-python",
   "name": "python",
   "nbconvert_exporter": "python",
   "pygments_lexer": "ipython3",
   "version": "3.12.3"
  }
 },
 "nbformat": 4,
 "nbformat_minor": 2
}
